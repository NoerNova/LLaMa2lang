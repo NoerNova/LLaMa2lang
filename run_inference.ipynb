{
 "cells": [
  {
   "cell_type": "code",
   "execution_count": 1,
   "metadata": {},
   "outputs": [
    {
     "data": {
      "application/vnd.jupyter.widget-view+json": {
       "model_id": "db547587692a4f4f8d3d9f690a854ccd",
       "version_major": 2,
       "version_minor": 0
      },
      "text/plain": [
       "Loading checkpoint shards:   0%|          | 0/4 [00:00<?, ?it/s]"
      ]
     },
     "metadata": {},
     "output_type": "display_data"
    },
    {
     "name": "stderr",
     "output_type": "stream",
     "text": [
      "Special tokens have been added in the vocabulary, make sure the associated word embeddings are fine-tuned or trained.\n",
      "c:\\Users\\NoerN\\.conda\\envs\\llama2lang\\lib\\site-packages\\transformers\\models\\llama\\modeling_llama.py:648: UserWarning: 1Torch was not compiled with flash attention. (Triggered internally at ..\\aten\\src\\ATen\\native\\transformers\\cuda\\sdp_utils.cpp:455.)\n",
      "  attn_output = torch.nn.functional.scaled_dot_product_attention(\n"
     ]
    },
    {
     "name": "stdout",
     "output_type": "stream",
     "text": [
      "မႂ်ႇသုင်ၶႃႈ မိူဝ်ႈၼႆႉပဵၼ် ပရူဝ်ႇၵရမ်ႇ ဢၼ်တႅမ်ႈဝႆႉၼႂ်းၽႃႇသႃႇၵႂၢမ်းလၢတ်ႈလၢႆလၢႆၽႃႇသႃႇၶႃႈဢေႃႈ မႂ်ႇသုင်ၶႃႈ မိူဝ်ႈၼႆႉပဵၼ် ပရူဝ်ႇၵရမ်ႇ ဢၼ်တႅမ်ႈဝႆႉၼႂ်းၽႃႇသႃႇၵႂၢမ်းလၢတ်ႈလၢႆလၢႆၽႃႇသႃႇၶႃႈဢေႃႈ မႂ်ႇသုင်ၶႃႈ မိူဝ်ႈၼႆႉပဵၼ် ပရူဝ်ႇၵ�\n"
     ]
    }
   ],
   "source": [
    "import transformers\n",
    "from transformers import pipeline\n",
    "import torch\n",
    "\n",
    "model_id = \"merge_llama3_adapter_Shan\"\n",
    "\n",
    "text_pipeline = pipeline(\n",
    "    \"text-generation\",\n",
    "    model=model_id,\n",
    "    model_kwargs={\"torch_dtype\": torch.bfloat16},\n",
    "    device_map=\"auto\"\n",
    ")\n",
    "\n",
    "# message = [\n",
    "#     \"သူပဵၼ်ၽူႈၸွႆႈထႅမ် ဢၼ်တေတွပ်ႇပၼ်ၶေႃႈတွပ်ႇၵူႈလွင်ႈလွင်ႈ\",\n",
    "# ]\n",
    "\n",
    "messages = [\n",
    "    {\"role\": \"system\", \"content\": \"You are a genetic chatbot who always responds in Shan.\"},\n",
    "    {\"role\": \"user\", \"content\": \"တႅမ်ႈပၼ် Hello World ၼႂ်း 10 ၽႃႇသႃႇ\"},\n",
    "]\n",
    "\n",
    "prompt = text_pipeline.tokenizer.apply_chat_template(\n",
    "    messages, tokenize=False, add_generation_prompt=True\n",
    ")\n",
    "\n",
    "terminators = [\n",
    "    text_pipeline.tokenizer.eos_token_id,\n",
    "    text_pipeline.tokenizer.convert_tokens_to_ids(\"<|eot_id|>\")\n",
    "]\n",
    "\n",
    "outputs = text_pipeline(\n",
    "    prompt,\n",
    "    max_new_tokens=512,\n",
    "    eos_token_id=terminators,\n",
    "    do_sample=True,\n",
    "    temperature=0.6,\n",
    "    top_p=0.9,\n",
    ")\n",
    "\n",
    "print(outputs[0][\"generated_text\"][len(prompt):])"
   ]
  }
 ],
 "metadata": {
  "kernelspec": {
   "display_name": "llama2lang",
   "language": "python",
   "name": "python3"
  },
  "language_info": {
   "codemirror_mode": {
    "name": "ipython",
    "version": 3
   },
   "file_extension": ".py",
   "mimetype": "text/x-python",
   "name": "python",
   "nbconvert_exporter": "python",
   "pygments_lexer": "ipython3",
   "version": "3.10.14"
  }
 },
 "nbformat": 4,
 "nbformat_minor": 2
}
